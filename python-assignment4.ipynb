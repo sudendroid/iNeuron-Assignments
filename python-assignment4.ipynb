{
 "cells": [
  {
   "cell_type": "markdown",
   "metadata": {},
   "source": [
    "##### 1.1 Write a Python Program(with class concepts) to find the area of the triangle using the below formula.\n",
    "#### area = (s*(s-a)*(s-b)*(s-c)) ** 0.5\n",
    "##### Function to take the length of the sides of triangle from user should be defined in the parent class and function to calculate the area should be defined in subclass."
   ]
  },
  {
   "cell_type": "code",
   "execution_count": 1,
   "metadata": {},
   "outputs": [
    {
     "name": "stdout",
     "output_type": "stream",
     "text": [
      "Enter side a : 2\n",
      "Enter side b : 4\n",
      "Enter side c : 5\n",
      "3.799671038392666\n"
     ]
    }
   ],
   "source": [
    "'''\n",
    "Let a, b, c are the lengths of the sides of a triangle.\n",
    "\n",
    "The area of the triangle is:\n",
    "\n",
    "Area=√s(s−a)(s−b)(s−c)\n",
    "Where, s is half the perimeter,\n",
    "\n",
    "s= (a+b+c)/2\n",
    "\n",
    "\n",
    "In python square root can be computed using math.sqrt \n",
    "or using Exponentiation operator(**) or x**0.5\n",
    "\n",
    "'''\n",
    "import math \n",
    "\n",
    "class Triangle:    \n",
    "    def __init__(self):\n",
    "        self.a = float(input('Enter side a : '))\n",
    "        self.b = float(input('Enter side b : '))\n",
    "        self.c = float(input('Enter side c : '))\n",
    "\n",
    "class Area(Triangle):\n",
    "    def compute(self):\n",
    "        s = (self.a + self.b + self.c)/2\n",
    "        area = (s * (s - self.a)*(s - self.b)*(s - self.c)) ** 0.5\n",
    "#         area = math.sqrt(s * (s - self.a)*(s - self.b)*(s - self.c))\n",
    "        return area\n",
    "    \n",
    "\n",
    "area = Area()\n",
    "print(area.compute())"
   ]
  },
  {
   "cell_type": "markdown",
   "metadata": {},
   "source": [
    "##### 1.2 Write a function filter_long_words() that takes a list of words and an integer n and returns the list of words that are longer than n."
   ]
  },
  {
   "cell_type": "code",
   "execution_count": 2,
   "metadata": {},
   "outputs": [],
   "source": [
    "def filter_long_words(lst_of_words, n):\n",
    "    return filter(lambda word: len(word) > n, lst_of_words) "
   ]
  },
  {
   "cell_type": "code",
   "execution_count": 3,
   "metadata": {},
   "outputs": [
    {
     "name": "stdout",
     "output_type": "stream",
     "text": [
      "['adbv', 'sdfgh']\n"
     ]
    }
   ],
   "source": [
    "input_list = ['as', 'abc', 'adbv', 'sdfgh']\n",
    "filtered_list = filter_long_words(input_list, 3)\n",
    "print(list(filtered_list))"
   ]
  },
  {
   "cell_type": "markdown",
   "metadata": {},
   "source": [
    "##### 2.1 Write a Python program using function concept that maps list of words into a list of integers representing the lengths of the corresponding words.\n",
    "\n",
    "Hint: If a list [ ab,cde,erty] is passed on to the python function output should come as [2,3,4]\n",
    "Here 2,3 and 4 are the lengths of the words in the list."
   ]
  },
  {
   "cell_type": "code",
   "execution_count": 4,
   "metadata": {},
   "outputs": [],
   "source": [
    "def words_to_lenght(word_list):\n",
    "    return map(lambda word : len(word), word_list)"
   ]
  },
  {
   "cell_type": "code",
   "execution_count": 5,
   "metadata": {},
   "outputs": [
    {
     "name": "stdout",
     "output_type": "stream",
     "text": [
      "[4, 2, 3, 6]\n"
     ]
    }
   ],
   "source": [
    "result_list = words_to_lenght(['abcd', 'ab', 'xyz', 'qwerty'])\n",
    "print(list(result_list))"
   ]
  },
  {
   "cell_type": "markdown",
   "metadata": {},
   "source": [
    "##### 2.2 Write a Python function which takes a character (i.e. a string of length 1) and returns True if it is a vowel, False otherwise."
   ]
  },
  {
   "cell_type": "code",
   "execution_count": 6,
   "metadata": {},
   "outputs": [],
   "source": [
    "vowels = ['a', 'e', 'i', 'o', 'u']\n",
    "def is_vowel(char):\n",
    "    return char in vowels"
   ]
  },
  {
   "cell_type": "code",
   "execution_count": 7,
   "metadata": {},
   "outputs": [
    {
     "name": "stdout",
     "output_type": "stream",
     "text": [
      "True\n",
      "True\n",
      "False\n",
      "False\n"
     ]
    }
   ],
   "source": [
    "print(is_vowel('a'))\n",
    "print(is_vowel('o'))\n",
    "print(is_vowel('g'))\n",
    "print(is_vowel('f'))"
   ]
  }
 ],
 "metadata": {
  "kernelspec": {
   "display_name": "Python 3",
   "language": "python",
   "name": "python3"
  },
  "language_info": {
   "codemirror_mode": {
    "name": "ipython",
    "version": 3
   },
   "file_extension": ".py",
   "mimetype": "text/x-python",
   "name": "python",
   "nbconvert_exporter": "python",
   "pygments_lexer": "ipython3",
   "version": "3.7.6"
  }
 },
 "nbformat": 4,
 "nbformat_minor": 4
}
