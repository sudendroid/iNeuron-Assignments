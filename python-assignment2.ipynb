{
 "cells": [
  {
   "cell_type": "markdown",
   "metadata": {},
   "source": [
    "### 1. Create the below pattern using nested for loop in Python.\n",
    "<code>\n",
    "*\n",
    "**\n",
    "***\n",
    "****\n",
    "*****\n",
    "****\n",
    "***\n",
    "**\n",
    "*\n",
    "</code>"
   ]
  },
  {
   "cell_type": "code",
   "execution_count": 1,
   "metadata": {},
   "outputs": [
    {
     "name": "stdout",
     "output_type": "stream",
     "text": [
      "Enter max stars in mid row: 5\n",
      "\n",
      "*\n",
      "**\n",
      "***\n",
      "****\n",
      "*****\n",
      "****\n",
      "***\n",
      "**\n",
      "*\n"
     ]
    }
   ],
   "source": [
    "# Approach 1 \n",
    "# we dont need nested loop if we choose to go with optimal solution\n",
    "# it is simplest approach and idea is to calculate no of start(n) for each row\n",
    "max_stars = int(input('Enter max stars in mid row: '))\n",
    "rows = max_stars * 2 - 1\n",
    "\n",
    "for i in range(0, rows + 1):\n",
    "    n = max_stars - abs(max_stars - i)\n",
    "    print('*' * n)"
   ]
  },
  {
   "cell_type": "code",
   "execution_count": 2,
   "metadata": {},
   "outputs": [
    {
     "name": "stdout",
     "output_type": "stream",
     "text": [
      "Enter max stars in mid row: 5\n",
      "\n",
      "*\n",
      "**\n",
      "***\n",
      "****\n",
      "*****\n",
      "****\n",
      "***\n",
      "**\n",
      "*\n"
     ]
    }
   ],
   "source": [
    "# Approach 2\n",
    "# This is similar to previous but it simplifies the previous logic with if else\n",
    "\n",
    "max_stars = int(input('Enter max stars in mid row: '))\n",
    "rows = max_stars * 2 - 1\n",
    "\n",
    "for i in range(0, rows + 1):\n",
    "    if i <= max_stars:\n",
    "        print('*' * i)\n",
    "    else :\n",
    "        print('*' * (rows + 1 - i))"
   ]
  },
  {
   "cell_type": "code",
   "execution_count": 3,
   "metadata": {},
   "outputs": [
    {
     "name": "stdout",
     "output_type": "stream",
     "text": [
      "Enter max stars in mid row: 5\n",
      "\n",
      "*\n",
      "**\n",
      "***\n",
      "****\n",
      "*****\n",
      "****\n",
      "***\n",
      "**\n",
      "*\n"
     ]
    }
   ],
   "source": [
    "# Approach 3\n",
    "# If we are asked to anyhow use the nested loops like we would do with any other programming lang like java\n",
    "max_stars = int(input('Enter max stars in mid row: '))\n",
    "rows = max_stars * 2 - 1\n",
    "\n",
    "for i in range(0, rows + 1):\n",
    "    n = max_stars - abs(max_stars - i)\n",
    "    for j in range(0, n):\n",
    "        print('*', end = \"\")\n",
    "    print('')"
   ]
  },
  {
   "cell_type": "markdown",
   "metadata": {},
   "source": [
    "#### 2. Write a Python program to reverse a word after accepting the input from the user.\n",
    "##### Input word: ineuron\n",
    "##### Output: norueni"
   ]
  },
  {
   "cell_type": "code",
   "execution_count": 4,
   "metadata": {},
   "outputs": [
    {
     "name": "stdout",
     "output_type": "stream",
     "text": [
      "Enter the word : ineuron\n",
      "norueni\n",
      "norueni\n",
      "norueni\n"
     ]
    }
   ],
   "source": [
    "word = input('Enter the word : ')\n",
    "\n",
    "# Approach 1\n",
    "print(word[::-1])\n",
    "\n",
    "# Approach 2\n",
    "print(''.join(reversed(word))) \n",
    "\n",
    "# Approach 3 \n",
    "reverse_word = ''\n",
    "for c in range(len(word) , 0, -1):\n",
    "    reverse_word += word[c-1]\n",
    "print(reverse_word)"
   ]
  }
 ],
 "metadata": {
  "kernelspec": {
   "display_name": "Python 3",
   "language": "python",
   "name": "python3"
  },
  "language_info": {
   "codemirror_mode": {
    "name": "ipython",
    "version": 3
   },
   "file_extension": ".py",
   "mimetype": "text/x-python",
   "name": "python",
   "nbconvert_exporter": "python",
   "pygments_lexer": "ipython3",
   "version": "3.7.6"
  }
 },
 "nbformat": 4,
 "nbformat_minor": 4
}
